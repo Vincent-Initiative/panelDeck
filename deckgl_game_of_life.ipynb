{
 "cells": [
  {
   "cell_type": "code",
   "execution_count": 2,
   "metadata": {},
   "outputs": [
    {
     "data": {
      "application/javascript": "(function(root) {\n  function now() {\n    return new Date();\n  }\n\n  var force = true;\n\n  if (typeof root._bokeh_onload_callbacks === \"undefined\" || force === true) {\n    root._bokeh_onload_callbacks = [];\n    root._bokeh_is_loading = undefined;\n  }\n\n  if (typeof (root._bokeh_timeout) === \"undefined\" || force === true) {\n    root._bokeh_timeout = Date.now() + 5000;\n    root._bokeh_failed_load = false;\n  }\n\n  function run_callbacks() {\n    try {\n      root._bokeh_onload_callbacks.forEach(function(callback) {\n        if (callback != null)\n          callback();\n      });\n    } finally {\n      delete root._bokeh_onload_callbacks\n    }\n    console.debug(\"Bokeh: all callbacks have finished\");\n  }\n\n  function load_libs(css_urls, js_urls, js_modules, callback) {\n    if (css_urls == null) css_urls = [];\n    if (js_urls == null) js_urls = [];\n    if (js_modules == null) js_modules = [];\n\n    root._bokeh_onload_callbacks.push(callback);\n    if (root._bokeh_is_loading > 0) {\n      console.debug(\"Bokeh: BokehJS is being loaded, scheduling callback at\", now());\n      return null;\n    }\n    if (js_urls.length === 0 && js_modules.length === 0) {\n      run_callbacks();\n      return null;\n    }\n    console.debug(\"Bokeh: BokehJS not loaded, scheduling load and callback at\", now());\n\n    function on_load() {\n      root._bokeh_is_loading--;\n      if (root._bokeh_is_loading === 0) {\n        console.debug(\"Bokeh: all BokehJS libraries/stylesheets loaded\");\n        run_callbacks()\n      }\n    }\n\n    function on_error() {\n      console.error(\"failed to load \" + url);\n    }\n\n    for (var i = 0; i < css_urls.length; i++) {\n      var url = css_urls[i];\n      const element = document.createElement(\"link\");\n      element.onload = on_load;\n      element.onerror = on_error;\n      element.rel = \"stylesheet\";\n      element.type = \"text/css\";\n      element.href = url;\n      console.debug(\"Bokeh: injecting link tag for BokehJS stylesheet: \", url);\n      document.body.appendChild(element);\n    }\n\n    var skip = [];\n    if (window.requirejs) {\n      window.requirejs.config({'packages': {}, 'paths': {'h3': 'https://cdn.jsdelivr.net/npm/h3-js@3.7.2/dist/h3-js.umd', 'deck-gl': 'https://cdn.jsdelivr.net/npm/deck.gl@8.6.7/dist.min', 'deck-json': 'https://cdn.jsdelivr.net/npm/@deck.gl/json@8.6.7/dist.min', 'loader-csv': 'https://cdn.jsdelivr.net/npm/@loaders.gl/csv@3.1.7/dist/dist.min', 'loader-json': 'https://cdn.jsdelivr.net/npm/@loaders.gl/json@3.1.7/dist/dist.min', 'loader-tiles': 'https://cdn.jsdelivr.net/npm/@loaders.gl/3d-tiles@3.1.7/dist/dist.min', 'mapbox-gl': 'https://cdn.jsdelivr.net/npm/mapbox-gl@2.6.1/dist/mapbox-gl.min', 'gridstack': 'https://cdn.jsdelivr.net/npm/gridstack@4.2.5/dist/gridstack-h5', 'notyf': 'https://cdn.jsdelivr.net/npm/notyf@3/notyf.min'}, 'shim': {'deck-json': {'deps': ['deck-gl']}, 'deck-gl': {'deps': ['h3']}, 'gridstack': {'exports': 'GridStack'}}});\n      require([\"h3\"], function(h3) {\n\twindow.h3 = h3\n\ton_load()\n      })\n      require([\"deck-gl\"], function(deck) {\n\twindow.deck = deck\n\ton_load()\n      })\n      require([\"deck-json\"], function() {\n\ton_load()\n      })\n      require([\"loader-csv\"], function() {\n\ton_load()\n      })\n      require([\"loader-json\"], function() {\n\ton_load()\n      })\n      require([\"loader-tiles\"], function() {\n\ton_load()\n      })\n      require([\"mapbox-gl\"], function(mapboxgl) {\n\twindow.mapboxgl = mapboxgl\n\ton_load()\n      })\n      require([\"gridstack\"], function(GridStack) {\n\twindow.GridStack = GridStack\n\ton_load()\n      })\n      require([\"notyf\"], function() {\n\ton_load()\n      })\n      root._bokeh_is_loading = css_urls.length + 9;\n    } else {\n      root._bokeh_is_loading = css_urls.length + js_urls.length + js_modules.length;\n    }    if (((window['deck'] !== undefined) && (!(window['deck'] instanceof HTMLElement))) || window.requirejs) {\n      var urls = ['https://cdn.holoviz.org/panel/0.14.2/dist/bundled/deckglplot/h3-js@3.7.2/dist/h3-js.umd.js', 'https://cdn.holoviz.org/panel/0.14.2/dist/bundled/deckglplot/deck.gl@8.6.7/dist.min.js', 'https://cdn.holoviz.org/panel/0.14.2/dist/bundled/deckglplot/@deck.gl/json@8.6.7/dist.min.js', 'https://cdn.holoviz.org/panel/0.14.2/dist/bundled/deckglplot/@loaders.gl/csv@3.1.7/dist/dist.min.js', 'https://cdn.holoviz.org/panel/0.14.2/dist/bundled/deckglplot/@loaders.gl/json@3.1.7/dist/dist.min.js', 'https://cdn.holoviz.org/panel/0.14.2/dist/bundled/deckglplot/@loaders.gl/3d-tiles@3.1.7/dist/dist.min.js'];\n      for (var i = 0; i < urls.length; i++) {\n        skip.push(urls[i])\n      }\n    }    if (((window['mapboxgl'] !== undefined) && (!(window['mapboxgl'] instanceof HTMLElement))) || window.requirejs) {\n      var urls = ['https://cdn.holoviz.org/panel/0.14.2/dist/bundled/deckglplot/mapbox-gl-js/v2.6.1/mapbox-gl.js'];\n      for (var i = 0; i < urls.length; i++) {\n        skip.push(urls[i])\n      }\n    }    if (((window['GridStack'] !== undefined) && (!(window['GridStack'] instanceof HTMLElement))) || window.requirejs) {\n      var urls = ['https://cdn.holoviz.org/panel/0.14.2/dist/bundled/gridstack/gridstack@4.2.5/dist/gridstack-h5.js'];\n      for (var i = 0; i < urls.length; i++) {\n        skip.push(urls[i])\n      }\n    }    if (((window['Notyf'] !== undefined) && (!(window['Notyf'] instanceof HTMLElement))) || window.requirejs) {\n      var urls = ['https://cdn.holoviz.org/panel/0.14.2/dist/bundled/notificationarea/notyf@3/notyf.min.js'];\n      for (var i = 0; i < urls.length; i++) {\n        skip.push(urls[i])\n      }\n    }    for (var i = 0; i < js_urls.length; i++) {\n      var url = js_urls[i];\n      if (skip.indexOf(url) >= 0) {\n\tif (!window.requirejs) {\n\t  on_load();\n\t}\n\tcontinue;\n      }\n      var element = document.createElement('script');\n      element.onload = on_load;\n      element.onerror = on_error;\n      element.async = false;\n      element.src = url;\n      console.debug(\"Bokeh: injecting script tag for BokehJS library: \", url);\n      document.head.appendChild(element);\n    }\n    for (var i = 0; i < js_modules.length; i++) {\n      var url = js_modules[i];\n      if (skip.indexOf(url) >= 0) {\n\tif (!window.requirejs) {\n\t  on_load();\n\t}\n\tcontinue;\n      }\n      var element = document.createElement('script');\n      element.onload = on_load;\n      element.onerror = on_error;\n      element.async = false;\n      element.src = url;\n      element.type = \"module\";\n      console.debug(\"Bokeh: injecting script tag for BokehJS library: \", url);\n      document.head.appendChild(element);\n    }\n    if (!js_urls.length && !js_modules.length) {\n      on_load()\n    }\n  };\n\n  function inject_raw_css(css) {\n    const element = document.createElement(\"style\");\n    element.appendChild(document.createTextNode(css));\n    document.body.appendChild(element);\n  }\n\n  var js_urls = [\"https://cdn.holoviz.org/panel/0.14.2/dist/bundled/deckglplot/h3-js@3.7.2/dist/h3-js.umd.js\", \"https://cdn.holoviz.org/panel/0.14.2/dist/bundled/deckglplot/deck.gl@8.6.7/dist.min.js\", \"https://cdn.holoviz.org/panel/0.14.2/dist/bundled/deckglplot/@deck.gl/json@8.6.7/dist.min.js\", \"https://cdn.holoviz.org/panel/0.14.2/dist/bundled/deckglplot/@loaders.gl/csv@3.1.7/dist/dist.min.js\", \"https://cdn.holoviz.org/panel/0.14.2/dist/bundled/deckglplot/@loaders.gl/json@3.1.7/dist/dist.min.js\", \"https://cdn.holoviz.org/panel/0.14.2/dist/bundled/deckglplot/@loaders.gl/3d-tiles@3.1.7/dist/dist.min.js\", \"https://cdn.holoviz.org/panel/0.14.2/dist/bundled/deckglplot/mapbox-gl-js/v2.6.1/mapbox-gl.js\", \"https://cdn.bokeh.org/bokeh/release/bokeh-2.4.3.min.js\", \"https://cdn.bokeh.org/bokeh/release/bokeh-gl-2.4.3.min.js\", \"https://cdn.bokeh.org/bokeh/release/bokeh-widgets-2.4.3.min.js\", \"https://cdn.bokeh.org/bokeh/release/bokeh-tables-2.4.3.min.js\", \"https://cdn.bokeh.org/bokeh/release/bokeh-mathjax-2.4.3.min.js\", \"https://unpkg.com/@holoviz/panel@0.14.2/dist/panel.min.js\"];\n  var js_modules = [];\n  var css_urls = [\"https://cdn.holoviz.org/panel/0.14.2/dist/bundled/deckglplot/mapbox-gl-js/v2.6.1/mapbox-gl.css\", \"https://cdn.holoviz.org/panel/0.14.2/dist/css/alerts.css\", \"https://cdn.holoviz.org/panel/0.14.2/dist/css/json.css\", \"https://cdn.holoviz.org/panel/0.14.2/dist/css/markdown.css\", \"https://cdn.holoviz.org/panel/0.14.2/dist/css/card.css\", \"https://cdn.holoviz.org/panel/0.14.2/dist/css/dataframe.css\", \"https://cdn.holoviz.org/panel/0.14.2/dist/css/loading.css\", \"https://cdn.holoviz.org/panel/0.14.2/dist/css/widgets.css\", \"https://cdn.holoviz.org/panel/0.14.2/dist/css/debugger.css\"];\n  var inline_js = [    function(Bokeh) {\n      inject_raw_css(\"\\n    .bk.pn-loading.arc:before {\\n      background-image: url(\\\"data:image/svg+xml;base64,PHN2ZyB4bWxucz0iaHR0cDovL3d3dy53My5vcmcvMjAwMC9zdmciIHN0eWxlPSJtYXJnaW46IGF1dG87IGJhY2tncm91bmQ6IG5vbmU7IGRpc3BsYXk6IGJsb2NrOyBzaGFwZS1yZW5kZXJpbmc6IGF1dG87IiB2aWV3Qm94PSIwIDAgMTAwIDEwMCIgcHJlc2VydmVBc3BlY3RSYXRpbz0ieE1pZFlNaWQiPiAgPGNpcmNsZSBjeD0iNTAiIGN5PSI1MCIgZmlsbD0ibm9uZSIgc3Ryb2tlPSIjYzNjM2MzIiBzdHJva2Utd2lkdGg9IjEwIiByPSIzNSIgc3Ryb2tlLWRhc2hhcnJheT0iMTY0LjkzMzYxNDMxMzQ2NDE1IDU2Ljk3Nzg3MTQzNzgyMTM4Ij4gICAgPGFuaW1hdGVUcmFuc2Zvcm0gYXR0cmlidXRlTmFtZT0idHJhbnNmb3JtIiB0eXBlPSJyb3RhdGUiIHJlcGVhdENvdW50PSJpbmRlZmluaXRlIiBkdXI9IjFzIiB2YWx1ZXM9IjAgNTAgNTA7MzYwIDUwIDUwIiBrZXlUaW1lcz0iMDsxIj48L2FuaW1hdGVUcmFuc2Zvcm0+ICA8L2NpcmNsZT48L3N2Zz4=\\\");\\n      background-size: auto calc(min(50%, 400px));\\n    }\\n    \");\n    },    function(Bokeh) {\n      Bokeh.set_log_level(\"info\");\n    },\nfunction(Bokeh) {} // ensure no trailing comma for IE\n  ];\n\n  function run_inline_js() {\n    if ((root.Bokeh !== undefined) || (force === true)) {\n      for (var i = 0; i < inline_js.length; i++) {\n        inline_js[i].call(root, root.Bokeh);\n      }} else if (Date.now() < root._bokeh_timeout) {\n      setTimeout(run_inline_js, 100);\n    } else if (!root._bokeh_failed_load) {\n      console.log(\"Bokeh: BokehJS failed to load within specified timeout.\");\n      root._bokeh_failed_load = true;\n    }\n  }\n\n  if (root._bokeh_is_loading === 0) {\n    console.debug(\"Bokeh: BokehJS loaded, going straight to plotting\");\n    run_inline_js();\n  } else {\n    load_libs(css_urls, js_urls, js_modules, function() {\n      console.debug(\"Bokeh: BokehJS plotting callback run at\", now());\n      run_inline_js();\n    });\n  }\n}(window));",
      "application/vnd.holoviews_load.v0+json": ""
     },
     "metadata": {},
     "output_type": "display_data"
    },
    {
     "data": {
      "application/javascript": "\nif ((window.PyViz === undefined) || (window.PyViz instanceof HTMLElement)) {\n  window.PyViz = {comms: {}, comm_status:{}, kernels:{}, receivers: {}, plot_index: []}\n}\n\n\n    function JupyterCommManager() {\n    }\n\n    JupyterCommManager.prototype.register_target = function(plot_id, comm_id, msg_handler) {\n      if (window.comm_manager || ((window.Jupyter !== undefined) && (Jupyter.notebook.kernel != null))) {\n        var comm_manager = window.comm_manager || Jupyter.notebook.kernel.comm_manager;\n        comm_manager.register_target(comm_id, function(comm) {\n          comm.on_msg(msg_handler);\n        });\n      } else if ((plot_id in window.PyViz.kernels) && (window.PyViz.kernels[plot_id])) {\n        window.PyViz.kernels[plot_id].registerCommTarget(comm_id, function(comm) {\n          comm.onMsg = msg_handler;\n        });\n      } else if (typeof google != 'undefined' && google.colab.kernel != null) {\n        google.colab.kernel.comms.registerTarget(comm_id, (comm) => {\n          var messages = comm.messages[Symbol.asyncIterator]();\n          function processIteratorResult(result) {\n            var message = result.value;\n            console.log(message)\n            var content = {data: message.data, comm_id};\n            var buffers = []\n            for (var buffer of message.buffers || []) {\n              buffers.push(new DataView(buffer))\n            }\n            var metadata = message.metadata || {};\n            var msg = {content, buffers, metadata}\n            msg_handler(msg);\n            return messages.next().then(processIteratorResult);\n          }\n          return messages.next().then(processIteratorResult);\n        })\n      }\n    }\n\n    JupyterCommManager.prototype.get_client_comm = function(plot_id, comm_id, msg_handler) {\n      if (comm_id in window.PyViz.comms) {\n        return window.PyViz.comms[comm_id];\n      } else if (window.comm_manager || ((window.Jupyter !== undefined) && (Jupyter.notebook.kernel != null))) {\n        var comm_manager = window.comm_manager || Jupyter.notebook.kernel.comm_manager;\n        var comm = comm_manager.new_comm(comm_id, {}, {}, {}, comm_id);\n        if (msg_handler) {\n          comm.on_msg(msg_handler);\n        }\n      } else if ((plot_id in window.PyViz.kernels) && (window.PyViz.kernels[plot_id])) {\n        var comm = window.PyViz.kernels[plot_id].connectToComm(comm_id);\n        comm.open();\n        if (msg_handler) {\n          comm.onMsg = msg_handler;\n        }\n      } else if (typeof google != 'undefined' && google.colab.kernel != null) {\n        var comm_promise = google.colab.kernel.comms.open(comm_id)\n        comm_promise.then((comm) => {\n          window.PyViz.comms[comm_id] = comm;\n          if (msg_handler) {\n            var messages = comm.messages[Symbol.asyncIterator]();\n            function processIteratorResult(result) {\n              var message = result.value;\n              var content = {data: message.data};\n              var metadata = message.metadata || {comm_id};\n              var msg = {content, metadata}\n              msg_handler(msg);\n              return messages.next().then(processIteratorResult);\n            }\n            return messages.next().then(processIteratorResult);\n          }\n        }) \n        var sendClosure = (data, metadata, buffers, disposeOnDone) => {\n          return comm_promise.then((comm) => {\n            comm.send(data, metadata, buffers, disposeOnDone);\n          });\n        };\n        var comm = {\n          send: sendClosure\n        };\n      }\n      window.PyViz.comms[comm_id] = comm;\n      return comm;\n    }\n    window.PyViz.comm_manager = new JupyterCommManager();\n    \n\n\nvar JS_MIME_TYPE = 'application/javascript';\nvar HTML_MIME_TYPE = 'text/html';\nvar EXEC_MIME_TYPE = 'application/vnd.holoviews_exec.v0+json';\nvar CLASS_NAME = 'output';\n\n/**\n * Render data to the DOM node\n */\nfunction render(props, node) {\n  var div = document.createElement(\"div\");\n  var script = document.createElement(\"script\");\n  node.appendChild(div);\n  node.appendChild(script);\n}\n\n/**\n * Handle when a new output is added\n */\nfunction handle_add_output(event, handle) {\n  var output_area = handle.output_area;\n  var output = handle.output;\n  if ((output.data == undefined) || (!output.data.hasOwnProperty(EXEC_MIME_TYPE))) {\n    return\n  }\n  var id = output.metadata[EXEC_MIME_TYPE][\"id\"];\n  var toinsert = output_area.element.find(\".\" + CLASS_NAME.split(' ')[0]);\n  if (id !== undefined) {\n    var nchildren = toinsert.length;\n    var html_node = toinsert[nchildren-1].children[0];\n    html_node.innerHTML = output.data[HTML_MIME_TYPE];\n    var scripts = [];\n    var nodelist = html_node.querySelectorAll(\"script\");\n    for (var i in nodelist) {\n      if (nodelist.hasOwnProperty(i)) {\n        scripts.push(nodelist[i])\n      }\n    }\n\n    scripts.forEach( function (oldScript) {\n      var newScript = document.createElement(\"script\");\n      var attrs = [];\n      var nodemap = oldScript.attributes;\n      for (var j in nodemap) {\n        if (nodemap.hasOwnProperty(j)) {\n          attrs.push(nodemap[j])\n        }\n      }\n      attrs.forEach(function(attr) { newScript.setAttribute(attr.name, attr.value) });\n      newScript.appendChild(document.createTextNode(oldScript.innerHTML));\n      oldScript.parentNode.replaceChild(newScript, oldScript);\n    });\n    if (JS_MIME_TYPE in output.data) {\n      toinsert[nchildren-1].children[1].textContent = output.data[JS_MIME_TYPE];\n    }\n    output_area._hv_plot_id = id;\n    if ((window.Bokeh !== undefined) && (id in Bokeh.index)) {\n      window.PyViz.plot_index[id] = Bokeh.index[id];\n    } else {\n      window.PyViz.plot_index[id] = null;\n    }\n  } else if (output.metadata[EXEC_MIME_TYPE][\"server_id\"] !== undefined) {\n    var bk_div = document.createElement(\"div\");\n    bk_div.innerHTML = output.data[HTML_MIME_TYPE];\n    var script_attrs = bk_div.children[0].attributes;\n    for (var i = 0; i < script_attrs.length; i++) {\n      toinsert[toinsert.length - 1].childNodes[1].setAttribute(script_attrs[i].name, script_attrs[i].value);\n    }\n    // store reference to server id on output_area\n    output_area._bokeh_server_id = output.metadata[EXEC_MIME_TYPE][\"server_id\"];\n  }\n}\n\n/**\n * Handle when an output is cleared or removed\n */\nfunction handle_clear_output(event, handle) {\n  var id = handle.cell.output_area._hv_plot_id;\n  var server_id = handle.cell.output_area._bokeh_server_id;\n  if (((id === undefined) || !(id in PyViz.plot_index)) && (server_id !== undefined)) { return; }\n  var comm = window.PyViz.comm_manager.get_client_comm(\"hv-extension-comm\", \"hv-extension-comm\", function () {});\n  if (server_id !== null) {\n    comm.send({event_type: 'server_delete', 'id': server_id});\n    return;\n  } else if (comm !== null) {\n    comm.send({event_type: 'delete', 'id': id});\n  }\n  delete PyViz.plot_index[id];\n  if ((window.Bokeh !== undefined) & (id in window.Bokeh.index)) {\n    var doc = window.Bokeh.index[id].model.document\n    doc.clear();\n    const i = window.Bokeh.documents.indexOf(doc);\n    if (i > -1) {\n      window.Bokeh.documents.splice(i, 1);\n    }\n  }\n}\n\n/**\n * Handle kernel restart event\n */\nfunction handle_kernel_cleanup(event, handle) {\n  delete PyViz.comms[\"hv-extension-comm\"];\n  window.PyViz.plot_index = {}\n}\n\n/**\n * Handle update_display_data messages\n */\nfunction handle_update_output(event, handle) {\n  handle_clear_output(event, {cell: {output_area: handle.output_area}})\n  handle_add_output(event, handle)\n}\n\nfunction register_renderer(events, OutputArea) {\n  function append_mime(data, metadata, element) {\n    // create a DOM node to render to\n    var toinsert = this.create_output_subarea(\n    metadata,\n    CLASS_NAME,\n    EXEC_MIME_TYPE\n    );\n    this.keyboard_manager.register_events(toinsert);\n    // Render to node\n    var props = {data: data, metadata: metadata[EXEC_MIME_TYPE]};\n    render(props, toinsert[0]);\n    element.append(toinsert);\n    return toinsert\n  }\n\n  events.on('output_added.OutputArea', handle_add_output);\n  events.on('output_updated.OutputArea', handle_update_output);\n  events.on('clear_output.CodeCell', handle_clear_output);\n  events.on('delete.Cell', handle_clear_output);\n  events.on('kernel_ready.Kernel', handle_kernel_cleanup);\n\n  OutputArea.prototype.register_mime_type(EXEC_MIME_TYPE, append_mime, {\n    safe: true,\n    index: 0\n  });\n}\n\nif (window.Jupyter !== undefined) {\n  try {\n    var events = require('base/js/events');\n    var OutputArea = require('notebook/js/outputarea').OutputArea;\n    if (OutputArea.prototype.mime_types().indexOf(EXEC_MIME_TYPE) == -1) {\n      register_renderer(events, OutputArea);\n    }\n  } catch(err) {\n  }\n}\n",
      "application/vnd.holoviews_load.v0+json": ""
     },
     "metadata": {},
     "output_type": "display_data"
    },
    {
     "data": {
      "text/html": [
       "<style>.bk-root, .bk-root .bk:before, .bk-root .bk:after {\n",
       "  font-family: var(--jp-ui-font-size1);\n",
       "  font-size: var(--jp-ui-font-size1);\n",
       "  color: var(--jp-ui-font-color1);\n",
       "}\n",
       "</style>"
      ]
     },
     "metadata": {},
     "output_type": "display_data"
    }
   ],
   "source": [
    "import json\n",
    "import numpy as np\n",
    "import pandas as pd\n",
    "import panel as pn\n",
    "\n",
    "pn.extension('deckgl', sizing_mode=\"stretch_width\")"
   ]
  },
  {
   "cell_type": "markdown",
   "metadata": {},
   "source": [
    "This demo was adapted from [PyDeck's Conway Game of Life example](https://github.com/uber/deck.gl/blob/66c75051d5b385db31f0a4322dff054779824783/bindings/pydeck/examples/06%20-%20Conway's%20Game%20of%20Life.ipynb), full copyright lies with the original authors.\n",
    "\n",
    "This modified example demonstrates how to display and update a `DeckGL` pane with a periodic callback by modifying the JSON representation and triggering an update."
   ]
  },
  {
   "cell_type": "markdown",
   "metadata": {},
   "source": [
    "## Declare Game of Life logic"
   ]
  },
  {
   "cell_type": "code",
   "execution_count": 3,
   "metadata": {},
   "outputs": [],
   "source": [
    "import random\n",
    "\n",
    "def new_board(x, y, num_live_cells=2, num_dead_cells=3):\n",
    "    \"\"\"Initializes a board for Conway's Game of Life\"\"\"\n",
    "    board = []\n",
    "    for i in range(0, y):\n",
    "        # Defaults to a 3:2 dead cell:live cell ratio\n",
    "        board.append([random.choice([0] * num_dead_cells + [1] * num_live_cells) for _ in range(0, x)])\n",
    "    return board\n",
    "\n",
    "        \n",
    "def get(board, x, y):\n",
    "    \"\"\"Return the value at location (x, y) on a board, wrapping around if out-of-bounds\"\"\"\n",
    "    return board[y % len(board)][x % len(board[0])]\n",
    "\n",
    "\n",
    "def assign(board, x, y, value):\n",
    "    \"\"\"Assigns a value at location (x, y) on a board, wrapping around if out-of-bounds\"\"\"\n",
    "    board[y % len(board)][x % len(board[0])] = value\n",
    "\n",
    "\n",
    "def count_neighbors(board, x, y):\n",
    "    \"\"\"Counts the number of living neighbors a cell at (x, y) on a board has\"\"\"\n",
    "    return sum([\n",
    "        get(board, x - 1, y),\n",
    "        get(board, x + 1, y),\n",
    "        get(board, x, y - 1),\n",
    "        get(board, x, y + 1),\n",
    "        get(board, x + 1, y + 1),\n",
    "        get(board, x + 1, y - 1),\n",
    "        get(board, x - 1, y + 1),\n",
    "        get(board, x - 1, y - 1)])\n",
    "\n",
    "\n",
    "def process_life(board):\n",
    "    \"\"\"Creates the next iteration from a passed state of Conway's Game of Life\"\"\"\n",
    "    next_board = new_board(len(board[0]), len(board))\n",
    "    for y in range(0, len(board)):\n",
    "        for x in range(0, len(board[y])):\n",
    "            num_neighbors = count_neighbors(board, x, y)\n",
    "            is_alive = get(board, x, y) == 1\n",
    "            if num_neighbors < 2 and is_alive:\n",
    "                assign(next_board, x, y, 0)\n",
    "            elif 2 <= num_neighbors <= 3 and is_alive:\n",
    "                assign(next_board, x, y, 1)\n",
    "            elif num_neighbors > 3 and is_alive:\n",
    "                assign(next_board, x, y, 0)\n",
    "            elif num_neighbors == 3 and not is_alive:\n",
    "                assign(next_board, x, y, 1)\n",
    "            else:\n",
    "                assign(next_board, x, y, 0)\n",
    "    return next_board"
   ]
  },
  {
   "cell_type": "markdown",
   "metadata": {},
   "source": [
    "## Set up DeckGL JSON"
   ]
  },
  {
   "cell_type": "code",
   "execution_count": 4,
   "metadata": {},
   "outputs": [],
   "source": [
    "points = {\n",
    "    '@@type': 'PointCloudLayer',\n",
    "    'data': [],\n",
    "    'getColor': '@@=color',\n",
    "    'getPosition': '@@=position',\n",
    "    'getRadius': 40,\n",
    "    'id': '0558257e-1a5c-43d7-bd98-1fba69981c6c'\n",
    "}\n",
    "\n",
    "board_json = {\n",
    "    \"initialViewState\": {\n",
    "        \"bearing\": 44,\n",
    "        \"latitude\": 0.01,\n",
    "        \"longitude\": 0.01,\n",
    "        \"pitch\": 45,\n",
    "        \"zoom\": 13\n",
    "    },\n",
    "    \"layers\": [points],\n",
    "    \"mapStyle\": \"\",\n",
    "    \"views\": [\n",
    "        {\n",
    "            \"@@type\": \"MapView\",\n",
    "            \"controller\": True\n",
    "        }\n",
    "    ]\n",
    "}"
   ]
  },
  {
   "cell_type": "markdown",
   "metadata": {},
   "source": [
    "## Declare callbacks to periodically update the board"
   ]
  },
  {
   "cell_type": "code",
   "execution_count": 5,
   "metadata": {},
   "outputs": [],
   "source": [
    "PINK = [155, 155, 255, 245]\n",
    "PURPLE = [255, 155, 255, 245]\n",
    "\n",
    "SCALING_FACTOR = 1000.0\n",
    "\n",
    "def convert_board_to_df(board):\n",
    "    \"\"\"Makes the board matrix into a list for easier processing\"\"\"\n",
    "    rows = []\n",
    "    for x in range(0, len(board[0])):\n",
    "        for y in range(0, len(board)):\n",
    "            rows.append([[x / SCALING_FACTOR, y / SCALING_FACTOR], PURPLE if board[y][x] else PINK])\n",
    "    return pd.DataFrame(rows, columns=['position', 'color'])\n",
    "\n",
    "def run_gol(event=None):\n",
    "    global board\n",
    "    board = process_life(board)\n",
    "    records = convert_board_to_df(board)\n",
    "    points['data'] = records\n",
    "    gol.param.trigger('object')\n",
    "    \n",
    "def reset_board(event):\n",
    "    global board\n",
    "    board = new_board(30, 30)\n",
    "    run_gol()\n",
    "\n",
    "def toggle_periodic_callback(event):\n",
    "    if event.new:\n",
    "        periodic_toggle.name = 'Stop'\n",
    "        periodic_toggle.button_type = 'warning'\n",
    "        periodic_cb.start()\n",
    "    else:\n",
    "        periodic_toggle.name = 'Run'\n",
    "        periodic_toggle.button_type = 'primary'\n",
    "        periodic_cb.stop()\n",
    "        \n",
    "def update_period(event):\n",
    "    periodic_cb.period = event.new"
   ]
  },
  {
   "cell_type": "markdown",
   "metadata": {},
   "source": [
    "## Set up Panel and callbacks"
   ]
  },
  {
   "cell_type": "code",
   "execution_count": 6,
   "metadata": {},
   "outputs": [
    {
     "data": {},
     "metadata": {},
     "output_type": "display_data"
    },
    {
     "data": {
      "application/vnd.holoviews_exec.v0+json": "",
      "text/html": [
       "<div id='1002'>\n",
       "  <div class=\"bk-root\" id=\"9f1d39d4-ee76-4cb2-8570-8f34974ebe74\" data-root-id=\"1002\"></div>\n",
       "</div>\n",
       "<script type=\"application/javascript\">(function(root) {\n",
       "  function embed_document(root) {\n",
       "    var docs_json = {\"412b7908-0b8e-4b8c-852e-e5142440743f\":{\"defs\":[{\"extends\":null,\"module\":null,\"name\":\"ReactiveHTML1\",\"overrides\":[],\"properties\":[]},{\"extends\":null,\"module\":null,\"name\":\"FlexBox1\",\"overrides\":[],\"properties\":[{\"default\":\"flex-start\",\"kind\":null,\"name\":\"align_content\"},{\"default\":\"flex-start\",\"kind\":null,\"name\":\"align_items\"},{\"default\":\"row\",\"kind\":null,\"name\":\"flex_direction\"},{\"default\":\"wrap\",\"kind\":null,\"name\":\"flex_wrap\"},{\"default\":\"flex-start\",\"kind\":null,\"name\":\"justify_content\"}]},{\"extends\":null,\"module\":null,\"name\":\"GridStack1\",\"overrides\":[],\"properties\":[{\"default\":\"warn\",\"kind\":null,\"name\":\"mode\"},{\"default\":null,\"kind\":null,\"name\":\"ncols\"},{\"default\":null,\"kind\":null,\"name\":\"nrows\"},{\"default\":true,\"kind\":null,\"name\":\"allow_resize\"},{\"default\":true,\"kind\":null,\"name\":\"allow_drag\"},{\"default\":[],\"kind\":null,\"name\":\"state\"}]},{\"extends\":null,\"module\":null,\"name\":\"click1\",\"overrides\":[],\"properties\":[{\"default\":\"\",\"kind\":null,\"name\":\"terminal_output\"},{\"default\":\"\",\"kind\":null,\"name\":\"debug_name\"},{\"default\":0,\"kind\":null,\"name\":\"clears\"}]},{\"extends\":null,\"module\":null,\"name\":\"NotificationAreaBase1\",\"overrides\":[],\"properties\":[{\"default\":\"bottom-right\",\"kind\":null,\"name\":\"position\"},{\"default\":0,\"kind\":null,\"name\":\"_clear\"}]},{\"extends\":null,\"module\":null,\"name\":\"NotificationArea1\",\"overrides\":[],\"properties\":[{\"default\":[],\"kind\":null,\"name\":\"notifications\"},{\"default\":\"bottom-right\",\"kind\":null,\"name\":\"position\"},{\"default\":0,\"kind\":null,\"name\":\"_clear\"},{\"default\":[{\"background\":\"#ffc107\",\"icon\":{\"className\":\"fas fa-exclamation-triangle\",\"color\":\"white\",\"tagName\":\"i\"},\"type\":\"warning\"},{\"background\":\"#007bff\",\"icon\":{\"className\":\"fas fa-info-circle\",\"color\":\"white\",\"tagName\":\"i\"},\"type\":\"info\"}],\"kind\":null,\"name\":\"types\"}]},{\"extends\":null,\"module\":null,\"name\":\"Notification\",\"overrides\":[],\"properties\":[{\"default\":null,\"kind\":null,\"name\":\"background\"},{\"default\":3000,\"kind\":null,\"name\":\"duration\"},{\"default\":null,\"kind\":null,\"name\":\"icon\"},{\"default\":\"\",\"kind\":null,\"name\":\"message\"},{\"default\":null,\"kind\":null,\"name\":\"notification_type\"},{\"default\":false,\"kind\":null,\"name\":\"_destroyed\"}]},{\"extends\":null,\"module\":null,\"name\":\"TemplateActions1\",\"overrides\":[],\"properties\":[{\"default\":0,\"kind\":null,\"name\":\"open_modal\"},{\"default\":0,\"kind\":null,\"name\":\"close_modal\"}]},{\"extends\":null,\"module\":null,\"name\":\"MaterialTemplateActions1\",\"overrides\":[],\"properties\":[{\"default\":0,\"kind\":null,\"name\":\"open_modal\"},{\"default\":0,\"kind\":null,\"name\":\"close_modal\"}]}],\"roots\":{\"references\":[{\"attributes\":{\"client_comm_id\":\"afd4b1bfd3254a76aa694de133dedeba\",\"comm_id\":\"0162ed8da70940568ec0ab999f346da1\",\"plot_id\":\"1002\"},\"id\":\"1016\",\"type\":\"panel.models.comm_manager.CommManager\"},{\"attributes\":{},\"id\":\"1011\",\"type\":\"Selection\"},{\"attributes\":{\"data\":{\"mapStyle\":\"\",\"views\":[{\"@@type\":\"MapView\",\"controller\":true}]},\"data_sources\":[{\"id\":\"1004\"}],\"initialViewState\":{\"bearing\":44,\"latitude\":0.01,\"longitude\":0.01,\"pitch\":45,\"zoom\":13},\"layers\":[{\"@@type\":\"PointCloudLayer\",\"data\":0,\"getColor\":\"@@=color\",\"getPosition\":\"@@=position\",\"getRadius\":40,\"id\":\"0558257e-1a5c-43d7-bd98-1fba69981c6c\"}],\"margin\":[5,5,5,5],\"name\":\"DeckGL00101\",\"sizing_mode\":\"stretch_width\"},\"id\":\"1005\",\"type\":\"panel.models.deckgl.DeckGLPlot\"},{\"attributes\":{\"align\":\"end\",\"low\":50,\"margin\":[5,10,5,10],\"min_width\":100,\"mode\":\"int\",\"placeholder\":\"0\",\"step\":50,\"title\":\"Period (ms)\",\"value\":500,\"value_throttled\":500,\"width\":100},\"id\":\"1007\",\"type\":\"Spinner\"},{\"attributes\":{\"reload\":false},\"id\":\"1023\",\"type\":\"panel.models.location.Location\"},{\"attributes\":{\"children\":[{\"id\":\"1003\"},{\"id\":\"1005\"},{\"id\":\"1006\"}],\"margin\":[0,0,0,0],\"name\":\"Column00110\",\"sizing_mode\":\"stretch_width\"},\"id\":\"1002\",\"type\":\"Column\"},{\"attributes\":{\"align\":\"end\",\"button_type\":\"warning\",\"icon\":null,\"label\":\"Reset\",\"margin\":[5,10,5,10],\"min_width\":60,\"subscribed_events\":[\"button_click\"],\"width\":60},\"id\":\"1009\",\"type\":\"Button\"},{\"attributes\":{\"css_classes\":[\"markdown\"],\"margin\":[5,5,5,5],\"name\":\"Markdown00108\",\"sizing_mode\":\"stretch_width\",\"text\":\"&lt;h2&gt;Game of Life (using Deck.GL)&lt;/h2&gt;\"},\"id\":\"1003\",\"type\":\"panel.models.markup.HTML\"},{\"attributes\":{\"align\":\"end\",\"button_type\":\"primary\",\"icon\":null,\"label\":\"Run\",\"margin\":[5,10,5,10],\"min_width\":50,\"width\":50},\"id\":\"1008\",\"type\":\"Toggle\"},{\"attributes\":{\"data\":{\"color\":[[255,155,255,245],[255,155,255,245],[155,155,255,245],[255,155,255,245],[255,155,255,245],[255,155,255,245],[155,155,255,245],[155,155,255,245],[255,155,255,245],[255,155,255,245],[155,155,255,245],[255,155,255,245],[255,155,255,245],[255,155,255,245],[255,155,255,245],[155,155,255,245],[155,155,255,245],[155,155,255,245],[155,155,255,245],[155,155,255,245],[255,155,255,245],[155,155,255,245],[255,155,255,245],[255,155,255,245],[255,155,255,245],[155,155,255,245],[255,155,255,245],[255,155,255,245],[155,155,255,245],[255,155,255,245],[155,155,255,245],[255,155,255,245],[155,155,255,245],[155,155,255,245],[155,155,255,245],[155,155,255,245],[255,155,255,245],[155,155,255,245],[155,155,255,245],[255,155,255,245],[255,155,255,245],[155,155,255,245],[155,155,255,245],[255,155,255,245],[155,155,255,245],[255,155,255,245],[155,155,255,245],[255,155,255,245],[255,155,255,245],[255,155,255,245],[255,155,255,245],[155,155,255,245],[255,155,255,245],[155,155,255,245],[255,155,255,245],[255,155,255,245],[255,155,255,245],[255,155,255,245],[255,155,255,245],[255,155,255,245],[255,155,255,245],[155,155,255,245],[255,155,255,245],[155,155,255,245],[155,155,255,245],[155,155,255,245],[255,155,255,245],[155,155,255,245],[255,155,255,245],[155,155,255,245],[255,155,255,245],[255,155,255,245],[155,155,255,245],[255,155,255,245],[155,155,255,245],[255,155,255,245],[155,155,255,245],[155,155,255,245],[155,155,255,245],[155,155,255,245],[155,155,255,245],[155,155,255,245],[155,155,255,245],[255,155,255,245],[255,155,255,245],[255,155,255,245],[255,155,255,245],[255,155,255,245],[155,155,255,245],[255,155,255,245],[255,155,255,245],[155,155,255,245],[155,155,255,245],[155,155,255,245],[155,155,255,245],[155,155,255,245],[155,155,255,245],[155,155,255,245],[255,155,255,245],[255,155,255,245],[155,155,255,245],[155,155,255,245],[155,155,255,245],[155,155,255,245],[155,155,255,245],[255,155,255,245],[155,155,255,245],[255,155,255,245],[155,155,255,245],[255,155,255,245],[255,155,255,245],[255,155,255,245],[155,155,255,245],[255,155,255,245],[155,155,255,245],[255,155,255,245],[155,155,255,245],[155,155,255,245],[155,155,255,245],[255,155,255,245],[255,155,255,245],[255,155,255,245],[155,155,255,245],[155,155,255,245],[255,155,255,245],[155,155,255,245],[155,155,255,245],[255,155,255,245],[155,155,255,245],[255,155,255,245],[155,155,255,245],[255,155,255,245],[155,155,255,245],[155,155,255,245],[155,155,255,245],[155,155,255,245],[155,155,255,245],[155,155,255,245],[155,155,255,245],[155,155,255,245],[155,155,255,245],[155,155,255,245],[155,155,255,245],[155,155,255,245],[155,155,255,245],[155,155,255,245],[155,155,255,245],[155,155,255,245],[155,155,255,245],[155,155,255,245],[255,155,255,245],[155,155,255,245],[155,155,255,245],[155,155,255,245],[255,155,255,245],[255,155,255,245],[255,155,255,245],[255,155,255,245],[255,155,255,245],[255,155,255,245],[155,155,255,245],[255,155,255,245],[155,155,255,245],[155,155,255,245],[155,155,255,245],[155,155,255,245],[155,155,255,245],[255,155,255,245],[155,155,255,245],[155,155,255,245],[255,155,255,245],[255,155,255,245],[255,155,255,245],[155,155,255,245],[255,155,255,245],[255,155,255,245],[155,155,255,245],[155,155,255,245],[255,155,255,245],[155,155,255,245],[155,155,255,245],[155,155,255,245],[155,155,255,245],[255,155,255,245],[255,155,255,245],[255,155,255,245],[255,155,255,245],[155,155,255,245],[255,155,255,245],[155,155,255,245],[255,155,255,245],[155,155,255,245],[155,155,255,245],[155,155,255,245],[255,155,255,245],[255,155,255,245],[155,155,255,245],[255,155,255,245],[155,155,255,245],[155,155,255,245],[155,155,255,245],[155,155,255,245],[155,155,255,245],[155,155,255,245],[255,155,255,245],[255,155,255,245],[155,155,255,245],[255,155,255,245],[255,155,255,245],[155,155,255,245],[255,155,255,245],[155,155,255,245],[155,155,255,245],[155,155,255,245],[155,155,255,245],[255,155,255,245],[255,155,255,245],[255,155,255,245],[255,155,255,245],[155,155,255,245],[155,155,255,245],[255,155,255,245],[155,155,255,245],[255,155,255,245],[255,155,255,245],[255,155,255,245],[155,155,255,245],[155,155,255,245],[255,155,255,245],[155,155,255,245],[255,155,255,245],[155,155,255,245],[155,155,255,245],[255,155,255,245],[155,155,255,245],[255,155,255,245],[155,155,255,245],[255,155,255,245],[155,155,255,245],[155,155,255,245],[255,155,255,245],[155,155,255,245],[155,155,255,245],[155,155,255,245],[155,155,255,245],[155,155,255,245],[255,155,255,245],[155,155,255,245],[155,155,255,245],[155,155,255,245],[155,155,255,245],[255,155,255,245],[155,155,255,245],[255,155,255,245],[155,155,255,245],[255,155,255,245],[155,155,255,245],[155,155,255,245],[155,155,255,245],[155,155,255,245],[155,155,255,245],[155,155,255,245],[255,155,255,245],[155,155,255,245],[155,155,255,245],[255,155,255,245],[155,155,255,245],[255,155,255,245],[155,155,255,245],[155,155,255,245],[255,155,255,245],[155,155,255,245],[155,155,255,245],[255,155,255,245],[255,155,255,245],[155,155,255,245],[255,155,255,245],[155,155,255,245],[255,155,255,245],[155,155,255,245],[155,155,255,245],[255,155,255,245],[255,155,255,245],[255,155,255,245],[255,155,255,245],[255,155,255,245],[155,155,255,245],[155,155,255,245],[155,155,255,245],[255,155,255,245],[255,155,255,245],[155,155,255,245],[155,155,255,245],[155,155,255,245],[155,155,255,245],[155,155,255,245],[255,155,255,245],[255,155,255,245],[155,155,255,245],[155,155,255,245],[155,155,255,245],[255,155,255,245],[155,155,255,245],[255,155,255,245],[255,155,255,245],[155,155,255,245],[155,155,255,245],[255,155,255,245],[255,155,255,245],[155,155,255,245],[255,155,255,245],[255,155,255,245],[155,155,255,245],[255,155,255,245],[255,155,255,245],[255,155,255,245],[155,155,255,245],[155,155,255,245],[155,155,255,245],[255,155,255,245],[255,155,255,245],[155,155,255,245],[155,155,255,245],[155,155,255,245],[155,155,255,245],[255,155,255,245],[155,155,255,245],[255,155,255,245],[255,155,255,245],[255,155,255,245],[255,155,255,245],[155,155,255,245],[255,155,255,245],[155,155,255,245],[255,155,255,245],[255,155,255,245],[255,155,255,245],[155,155,255,245],[155,155,255,245],[255,155,255,245],[255,155,255,245],[255,155,255,245],[155,155,255,245],[255,155,255,245],[255,155,255,245],[155,155,255,245],[255,155,255,245],[155,155,255,245],[255,155,255,245],[155,155,255,245],[155,155,255,245],[255,155,255,245],[155,155,255,245],[155,155,255,245],[155,155,255,245],[155,155,255,245],[155,155,255,245],[155,155,255,245],[155,155,255,245],[255,155,255,245],[255,155,255,245],[155,155,255,245],[255,155,255,245],[155,155,255,245],[155,155,255,245],[255,155,255,245],[255,155,255,245],[155,155,255,245],[155,155,255,245],[255,155,255,245],[155,155,255,245],[255,155,255,245],[155,155,255,245],[255,155,255,245],[155,155,255,245],[255,155,255,245],[155,155,255,245],[255,155,255,245],[255,155,255,245],[155,155,255,245],[155,155,255,245],[155,155,255,245],[155,155,255,245],[155,155,255,245],[155,155,255,245],[255,155,255,245],[155,155,255,245],[155,155,255,245],[155,155,255,245],[255,155,255,245],[155,155,255,245],[155,155,255,245],[155,155,255,245],[155,155,255,245],[155,155,255,245],[255,155,255,245],[255,155,255,245],[255,155,255,245],[255,155,255,245],[155,155,255,245],[155,155,255,245],[155,155,255,245],[155,155,255,245],[155,155,255,245],[255,155,255,245],[255,155,255,245],[255,155,255,245],[255,155,255,245],[155,155,255,245],[155,155,255,245],[255,155,255,245],[155,155,255,245],[155,155,255,245],[155,155,255,245],[155,155,255,245],[155,155,255,245],[255,155,255,245],[155,155,255,245],[155,155,255,245],[255,155,255,245],[255,155,255,245],[155,155,255,245],[255,155,255,245],[255,155,255,245],[155,155,255,245],[155,155,255,245],[155,155,255,245],[155,155,255,245],[155,155,255,245],[255,155,255,245],[255,155,255,245],[155,155,255,245],[155,155,255,245],[155,155,255,245],[255,155,255,245],[255,155,255,245],[155,155,255,245],[255,155,255,245],[255,155,255,245],[155,155,255,245],[155,155,255,245],[155,155,255,245],[155,155,255,245],[155,155,255,245],[255,155,255,245],[155,155,255,245],[255,155,255,245],[155,155,255,245],[155,155,255,245],[155,155,255,245],[155,155,255,245],[155,155,255,245],[255,155,255,245],[255,155,255,245],[255,155,255,245],[255,155,255,245],[155,155,255,245],[155,155,255,245],[155,155,255,245],[255,155,255,245],[155,155,255,245],[155,155,255,245],[155,155,255,245],[155,155,255,245],[155,155,255,245],[255,155,255,245],[255,155,255,245],[155,155,255,245],[255,155,255,245],[255,155,255,245],[155,155,255,245],[155,155,255,245],[155,155,255,245],[155,155,255,245],[155,155,255,245],[155,155,255,245],[155,155,255,245],[155,155,255,245],[155,155,255,245],[155,155,255,245],[155,155,255,245],[255,155,255,245],[255,155,255,245],[155,155,255,245],[255,155,255,245],[155,155,255,245],[155,155,255,245],[155,155,255,245],[155,155,255,245],[155,155,255,245],[155,155,255,245],[155,155,255,245],[155,155,255,245],[155,155,255,245],[155,155,255,245],[155,155,255,245],[155,155,255,245],[155,155,255,245],[155,155,255,245],[255,155,255,245],[155,155,255,245],[255,155,255,245],[155,155,255,245],[155,155,255,245],[155,155,255,245],[155,155,255,245],[255,155,255,245],[155,155,255,245],[155,155,255,245],[155,155,255,245],[255,155,255,245],[155,155,255,245],[255,155,255,245],[155,155,255,245],[255,155,255,245],[255,155,255,245],[255,155,255,245],[155,155,255,245],[155,155,255,245],[155,155,255,245],[155,155,255,245],[155,155,255,245],[155,155,255,245],[155,155,255,245],[255,155,255,245],[155,155,255,245],[255,155,255,245],[155,155,255,245],[255,155,255,245],[255,155,255,245],[155,155,255,245],[155,155,255,245],[155,155,255,245],[155,155,255,245],[155,155,255,245],[155,155,255,245],[255,155,255,245],[255,155,255,245],[155,155,255,245],[155,155,255,245],[155,155,255,245],[155,155,255,245],[255,155,255,245],[155,155,255,245],[155,155,255,245],[155,155,255,245],[155,155,255,245],[255,155,255,245],[155,155,255,245],[255,155,255,245],[255,155,255,245],[155,155,255,245],[255,155,255,245],[155,155,255,245],[255,155,255,245],[155,155,255,245],[155,155,255,245],[155,155,255,245],[155,155,255,245],[255,155,255,245],[255,155,255,245],[155,155,255,245],[255,155,255,245],[155,155,255,245],[155,155,255,245],[255,155,255,245],[155,155,255,245],[155,155,255,245],[255,155,255,245],[155,155,255,245],[155,155,255,245],[155,155,255,245],[155,155,255,245],[155,155,255,245],[155,155,255,245],[255,155,255,245],[255,155,255,245],[155,155,255,245],[255,155,255,245],[255,155,255,245],[155,155,255,245],[155,155,255,245],[155,155,255,245],[155,155,255,245],[255,155,255,245],[255,155,255,245],[255,155,255,245],[255,155,255,245],[155,155,255,245],[255,155,255,245],[155,155,255,245],[255,155,255,245],[255,155,255,245],[155,155,255,245],[255,155,255,245],[255,155,255,245],[255,155,255,245],[155,155,255,245],[155,155,255,245],[155,155,255,245],[155,155,255,245],[155,155,255,245],[155,155,255,245],[155,155,255,245],[155,155,255,245],[155,155,255,245],[255,155,255,245],[155,155,255,245],[255,155,255,245],[255,155,255,245],[155,155,255,245],[155,155,255,245],[155,155,255,245],[255,155,255,245],[155,155,255,245],[155,155,255,245],[155,155,255,245],[155,155,255,245],[155,155,255,245],[255,155,255,245],[155,155,255,245],[255,155,255,245],[155,155,255,245],[155,155,255,245],[155,155,255,245],[155,155,255,245],[255,155,255,245],[255,155,255,245],[255,155,255,245],[155,155,255,245],[255,155,255,245],[155,155,255,245],[155,155,255,245],[155,155,255,245],[255,155,255,245],[255,155,255,245],[155,155,255,245],[155,155,255,245],[155,155,255,245],[255,155,255,245],[155,155,255,245],[155,155,255,245],[155,155,255,245],[155,155,255,245],[155,155,255,245],[255,155,255,245],[155,155,255,245],[155,155,255,245],[155,155,255,245],[155,155,255,245],[155,155,255,245],[255,155,255,245],[155,155,255,245],[255,155,255,245],[255,155,255,245],[155,155,255,245],[155,155,255,245],[155,155,255,245],[255,155,255,245],[155,155,255,245],[155,155,255,245],[155,155,255,245],[155,155,255,245],[255,155,255,245],[155,155,255,245],[155,155,255,245],[155,155,255,245],[255,155,255,245],[255,155,255,245],[255,155,255,245],[155,155,255,245],[255,155,255,245],[155,155,255,245],[155,155,255,245],[155,155,255,245],[155,155,255,245],[255,155,255,245],[255,155,255,245],[155,155,255,245],[155,155,255,245],[255,155,255,245],[255,155,255,245],[155,155,255,245],[255,155,255,245],[255,155,255,245],[155,155,255,245],[255,155,255,245],[155,155,255,245],[155,155,255,245],[155,155,255,245],[155,155,255,245],[155,155,255,245],[155,155,255,245],[255,155,255,245],[155,155,255,245],[255,155,255,245],[155,155,255,245],[255,155,255,245],[155,155,255,245],[155,155,255,245],[255,155,255,245],[255,155,255,245],[155,155,255,245],[155,155,255,245],[255,155,255,245],[155,155,255,245],[255,155,255,245],[255,155,255,245],[155,155,255,245],[155,155,255,245],[255,155,255,245],[255,155,255,245],[255,155,255,245],[155,155,255,245],[155,155,255,245],[155,155,255,245],[255,155,255,245],[155,155,255,245],[155,155,255,245],[255,155,255,245],[155,155,255,245],[155,155,255,245],[155,155,255,245],[255,155,255,245],[155,155,255,245],[255,155,255,245],[255,155,255,245],[155,155,255,245],[155,155,255,245],[155,155,255,245],[155,155,255,245],[155,155,255,245],[255,155,255,245],[155,155,255,245],[255,155,255,245],[155,155,255,245],[155,155,255,245],[155,155,255,245],[255,155,255,245],[255,155,255,245],[155,155,255,245],[155,155,255,245],[155,155,255,245],[155,155,255,245],[155,155,255,245],[255,155,255,245],[255,155,255,245],[255,155,255,245],[255,155,255,245],[155,155,255,245],[155,155,255,245],[155,155,255,245],[155,155,255,245],[155,155,255,245],[155,155,255,245],[155,155,255,245],[155,155,255,245],[155,155,255,245],[155,155,255,245],[155,155,255,245],[155,155,255,245],[255,155,255,245],[255,155,255,245],[155,155,255,245],[155,155,255,245],[255,155,255,245],[255,155,255,245],[155,155,255,245],[255,155,255,245],[255,155,255,245],[155,155,255,245],[155,155,255,245],[155,155,255,245],[255,155,255,245],[255,155,255,245],[155,155,255,245],[255,155,255,245],[155,155,255,245],[155,155,255,245],[155,155,255,245],[155,155,255,245],[155,155,255,245],[155,155,255,245],[155,155,255,245],[155,155,255,245],[155,155,255,245],[255,155,255,245],[155,155,255,245],[155,155,255,245],[155,155,255,245],[155,155,255,245],[155,155,255,245],[255,155,255,245],[155,155,255,245],[155,155,255,245],[255,155,255,245],[255,155,255,245],[155,155,255,245],[155,155,255,245],[155,155,255,245],[155,155,255,245],[155,155,255,245],[155,155,255,245],[155,155,255,245],[155,155,255,245],[255,155,255,245],[155,155,255,245],[155,155,255,245],[255,155,255,245],[255,155,255,245],[155,155,255,245],[155,155,255,245],[155,155,255,245],[155,155,255,245],[255,155,255,245],[255,155,255,245],[255,155,255,245],[255,155,255,245],[155,155,255,245],[155,155,255,245],[155,155,255,245],[255,155,255,245],[255,155,255,245],[155,155,255,245],[155,155,255,245],[255,155,255,245],[255,155,255,245],[255,155,255,245],[255,155,255,245],[255,155,255,245],[255,155,255,245],[155,155,255,245],[155,155,255,245],[155,155,255,245],[155,155,255,245],[255,155,255,245],[155,155,255,245],[155,155,255,245],[155,155,255,245],[255,155,255,245],[255,155,255,245],[155,155,255,245],[255,155,255,245],[255,155,255,245],[155,155,255,245],[155,155,255,245],[155,155,255,245],[155,155,255,245],[255,155,255,245],[255,155,255,245],[155,155,255,245],[255,155,255,245],[255,155,255,245],[155,155,255,245],[255,155,255,245],[155,155,255,245],[155,155,255,245],[155,155,255,245],[155,155,255,245],[155,155,255,245],[255,155,255,245],[155,155,255,245],[155,155,255,245],[155,155,255,245],[155,155,255,245],[155,155,255,245],[255,155,255,245],[155,155,255,245],[155,155,255,245],[155,155,255,245],[155,155,255,245],[155,155,255,245],[155,155,255,245],[255,155,255,245],[255,155,255,245],[255,155,255,245],[255,155,255,245],[155,155,255,245],[255,155,255,245],[255,155,255,245],[155,155,255,245],[155,155,255,245],[155,155,255,245],[155,155,255,245],[255,155,255,245],[155,155,255,245],[155,155,255,245],[155,155,255,245],[255,155,255,245],[155,155,255,245],[255,155,255,245],[155,155,255,245],[255,155,255,245],[155,155,255,245],[155,155,255,245],[155,155,255,245],[255,155,255,245],[155,155,255,245],[155,155,255,245],[155,155,255,245]],\"index\":[0,1,2,3,4,5,6,7,8,9,10,11,12,13,14,15,16,17,18,19,20,21,22,23,24,25,26,27,28,29,30,31,32,33,34,35,36,37,38,39,40,41,42,43,44,45,46,47,48,49,50,51,52,53,54,55,56,57,58,59,60,61,62,63,64,65,66,67,68,69,70,71,72,73,74,75,76,77,78,79,80,81,82,83,84,85,86,87,88,89,90,91,92,93,94,95,96,97,98,99,100,101,102,103,104,105,106,107,108,109,110,111,112,113,114,115,116,117,118,119,120,121,122,123,124,125,126,127,128,129,130,131,132,133,134,135,136,137,138,139,140,141,142,143,144,145,146,147,148,149,150,151,152,153,154,155,156,157,158,159,160,161,162,163,164,165,166,167,168,169,170,171,172,173,174,175,176,177,178,179,180,181,182,183,184,185,186,187,188,189,190,191,192,193,194,195,196,197,198,199,200,201,202,203,204,205,206,207,208,209,210,211,212,213,214,215,216,217,218,219,220,221,222,223,224,225,226,227,228,229,230,231,232,233,234,235,236,237,238,239,240,241,242,243,244,245,246,247,248,249,250,251,252,253,254,255,256,257,258,259,260,261,262,263,264,265,266,267,268,269,270,271,272,273,274,275,276,277,278,279,280,281,282,283,284,285,286,287,288,289,290,291,292,293,294,295,296,297,298,299,300,301,302,303,304,305,306,307,308,309,310,311,312,313,314,315,316,317,318,319,320,321,322,323,324,325,326,327,328,329,330,331,332,333,334,335,336,337,338,339,340,341,342,343,344,345,346,347,348,349,350,351,352,353,354,355,356,357,358,359,360,361,362,363,364,365,366,367,368,369,370,371,372,373,374,375,376,377,378,379,380,381,382,383,384,385,386,387,388,389,390,391,392,393,394,395,396,397,398,399,400,401,402,403,404,405,406,407,408,409,410,411,412,413,414,415,416,417,418,419,420,421,422,423,424,425,426,427,428,429,430,431,432,433,434,435,436,437,438,439,440,441,442,443,444,445,446,447,448,449,450,451,452,453,454,455,456,457,458,459,460,461,462,463,464,465,466,467,468,469,470,471,472,473,474,475,476,477,478,479,480,481,482,483,484,485,486,487,488,489,490,491,492,493,494,495,496,497,498,499,500,501,502,503,504,505,506,507,508,509,510,511,512,513,514,515,516,517,518,519,520,521,522,523,524,525,526,527,528,529,530,531,532,533,534,535,536,537,538,539,540,541,542,543,544,545,546,547,548,549,550,551,552,553,554,555,556,557,558,559,560,561,562,563,564,565,566,567,568,569,570,571,572,573,574,575,576,577,578,579,580,581,582,583,584,585,586,587,588,589,590,591,592,593,594,595,596,597,598,599,600,601,602,603,604,605,606,607,608,609,610,611,612,613,614,615,616,617,618,619,620,621,622,623,624,625,626,627,628,629,630,631,632,633,634,635,636,637,638,639,640,641,642,643,644,645,646,647,648,649,650,651,652,653,654,655,656,657,658,659,660,661,662,663,664,665,666,667,668,669,670,671,672,673,674,675,676,677,678,679,680,681,682,683,684,685,686,687,688,689,690,691,692,693,694,695,696,697,698,699,700,701,702,703,704,705,706,707,708,709,710,711,712,713,714,715,716,717,718,719,720,721,722,723,724,725,726,727,728,729,730,731,732,733,734,735,736,737,738,739,740,741,742,743,744,745,746,747,748,749,750,751,752,753,754,755,756,757,758,759,760,761,762,763,764,765,766,767,768,769,770,771,772,773,774,775,776,777,778,779,780,781,782,783,784,785,786,787,788,789,790,791,792,793,794,795,796,797,798,799,800,801,802,803,804,805,806,807,808,809,810,811,812,813,814,815,816,817,818,819,820,821,822,823,824,825,826,827,828,829,830,831,832,833,834,835,836,837,838,839,840,841,842,843,844,845,846,847,848,849,850,851,852,853,854,855,856,857,858,859,860,861,862,863,864,865,866,867,868,869,870,871,872,873,874,875,876,877,878,879,880,881,882,883,884,885,886,887,888,889,890,891,892,893,894,895,896,897,898,899],\"position\":[[0.0,0.0],[0.0,0.001],[0.0,0.002],[0.0,0.003],[0.0,0.004],[0.0,0.005],[0.0,0.006],[0.0,0.007],[0.0,0.008],[0.0,0.009],[0.0,0.01],[0.0,0.011],[0.0,0.012],[0.0,0.013],[0.0,0.014],[0.0,0.015],[0.0,0.016],[0.0,0.017],[0.0,0.018],[0.0,0.019],[0.0,0.02],[0.0,0.021],[0.0,0.022],[0.0,0.023],[0.0,0.024],[0.0,0.025],[0.0,0.026],[0.0,0.027],[0.0,0.028],[0.0,0.029],[0.001,0.0],[0.001,0.001],[0.001,0.002],[0.001,0.003],[0.001,0.004],[0.001,0.005],[0.001,0.006],[0.001,0.007],[0.001,0.008],[0.001,0.009],[0.001,0.01],[0.001,0.011],[0.001,0.012],[0.001,0.013],[0.001,0.014],[0.001,0.015],[0.001,0.016],[0.001,0.017],[0.001,0.018],[0.001,0.019],[0.001,0.02],[0.001,0.021],[0.001,0.022],[0.001,0.023],[0.001,0.024],[0.001,0.025],[0.001,0.026],[0.001,0.027],[0.001,0.028],[0.001,0.029],[0.002,0.0],[0.002,0.001],[0.002,0.002],[0.002,0.003],[0.002,0.004],[0.002,0.005],[0.002,0.006],[0.002,0.007],[0.002,0.008],[0.002,0.009],[0.002,0.01],[0.002,0.011],[0.002,0.012],[0.002,0.013],[0.002,0.014],[0.002,0.015],[0.002,0.016],[0.002,0.017],[0.002,0.018],[0.002,0.019],[0.002,0.02],[0.002,0.021],[0.002,0.022],[0.002,0.023],[0.002,0.024],[0.002,0.025],[0.002,0.026],[0.002,0.027],[0.002,0.028],[0.002,0.029],[0.003,0.0],[0.003,0.001],[0.003,0.002],[0.003,0.003],[0.003,0.004],[0.003,0.005],[0.003,0.006],[0.003,0.007],[0.003,0.008],[0.003,0.009],[0.003,0.01],[0.003,0.011],[0.003,0.012],[0.003,0.013],[0.003,0.014],[0.003,0.015],[0.003,0.016],[0.003,0.017],[0.003,0.018],[0.003,0.019],[0.003,0.02],[0.003,0.021],[0.003,0.022],[0.003,0.023],[0.003,0.024],[0.003,0.025],[0.003,0.026],[0.003,0.027],[0.003,0.028],[0.003,0.029],[0.004,0.0],[0.004,0.001],[0.004,0.002],[0.004,0.003],[0.004,0.004],[0.004,0.005],[0.004,0.006],[0.004,0.007],[0.004,0.008],[0.004,0.009],[0.004,0.01],[0.004,0.011],[0.004,0.012],[0.004,0.013],[0.004,0.014],[0.004,0.015],[0.004,0.016],[0.004,0.017],[0.004,0.018],[0.004,0.019],[0.004,0.02],[0.004,0.021],[0.004,0.022],[0.004,0.023],[0.004,0.024],[0.004,0.025],[0.004,0.026],[0.004,0.027],[0.004,0.028],[0.004,0.029],[0.005,0.0],[0.005,0.001],[0.005,0.002],[0.005,0.003],[0.005,0.004],[0.005,0.005],[0.005,0.006],[0.005,0.007],[0.005,0.008],[0.005,0.009],[0.005,0.01],[0.005,0.011],[0.005,0.012],[0.005,0.013],[0.005,0.014],[0.005,0.015],[0.005,0.016],[0.005,0.017],[0.005,0.018],[0.005,0.019],[0.005,0.02],[0.005,0.021],[0.005,0.022],[0.005,0.023],[0.005,0.024],[0.005,0.025],[0.005,0.026],[0.005,0.027],[0.005,0.028],[0.005,0.029],[0.006,0.0],[0.006,0.001],[0.006,0.002],[0.006,0.003],[0.006,0.004],[0.006,0.005],[0.006,0.006],[0.006,0.007],[0.006,0.008],[0.006,0.009],[0.006,0.01],[0.006,0.011],[0.006,0.012],[0.006,0.013],[0.006,0.014],[0.006,0.015],[0.006,0.016],[0.006,0.017],[0.006,0.018],[0.006,0.019],[0.006,0.02],[0.006,0.021],[0.006,0.022],[0.006,0.023],[0.006,0.024],[0.006,0.025],[0.006,0.026],[0.006,0.027],[0.006,0.028],[0.006,0.029],[0.007,0.0],[0.007,0.001],[0.007,0.002],[0.007,0.003],[0.007,0.004],[0.007,0.005],[0.007,0.006],[0.007,0.007],[0.007,0.008],[0.007,0.009],[0.007,0.01],[0.007,0.011],[0.007,0.012],[0.007,0.013],[0.007,0.014],[0.007,0.015],[0.007,0.016],[0.007,0.017],[0.007,0.018],[0.007,0.019],[0.007,0.02],[0.007,0.021],[0.007,0.022],[0.007,0.023],[0.007,0.024],[0.007,0.025],[0.007,0.026],[0.007,0.027],[0.007,0.028],[0.007,0.029],[0.008,0.0],[0.008,0.001],[0.008,0.002],[0.008,0.003],[0.008,0.004],[0.008,0.005],[0.008,0.006],[0.008,0.007],[0.008,0.008],[0.008,0.009],[0.008,0.01],[0.008,0.011],[0.008,0.012],[0.008,0.013],[0.008,0.014],[0.008,0.015],[0.008,0.016],[0.008,0.017],[0.008,0.018],[0.008,0.019],[0.008,0.02],[0.008,0.021],[0.008,0.022],[0.008,0.023],[0.008,0.024],[0.008,0.025],[0.008,0.026],[0.008,0.027],[0.008,0.028],[0.008,0.029],[0.009,0.0],[0.009,0.001],[0.009,0.002],[0.009,0.003],[0.009,0.004],[0.009,0.005],[0.009,0.006],[0.009,0.007],[0.009,0.008],[0.009,0.009],[0.009,0.01],[0.009,0.011],[0.009,0.012],[0.009,0.013],[0.009,0.014],[0.009,0.015],[0.009,0.016],[0.009,0.017],[0.009,0.018],[0.009,0.019],[0.009,0.02],[0.009,0.021],[0.009,0.022],[0.009,0.023],[0.009,0.024],[0.009,0.025],[0.009,0.026],[0.009,0.027],[0.009,0.028],[0.009,0.029],[0.01,0.0],[0.01,0.001],[0.01,0.002],[0.01,0.003],[0.01,0.004],[0.01,0.005],[0.01,0.006],[0.01,0.007],[0.01,0.008],[0.01,0.009],[0.01,0.01],[0.01,0.011],[0.01,0.012],[0.01,0.013],[0.01,0.014],[0.01,0.015],[0.01,0.016],[0.01,0.017],[0.01,0.018],[0.01,0.019],[0.01,0.02],[0.01,0.021],[0.01,0.022],[0.01,0.023],[0.01,0.024],[0.01,0.025],[0.01,0.026],[0.01,0.027],[0.01,0.028],[0.01,0.029],[0.011,0.0],[0.011,0.001],[0.011,0.002],[0.011,0.003],[0.011,0.004],[0.011,0.005],[0.011,0.006],[0.011,0.007],[0.011,0.008],[0.011,0.009],[0.011,0.01],[0.011,0.011],[0.011,0.012],[0.011,0.013],[0.011,0.014],[0.011,0.015],[0.011,0.016],[0.011,0.017],[0.011,0.018],[0.011,0.019],[0.011,0.02],[0.011,0.021],[0.011,0.022],[0.011,0.023],[0.011,0.024],[0.011,0.025],[0.011,0.026],[0.011,0.027],[0.011,0.028],[0.011,0.029],[0.012,0.0],[0.012,0.001],[0.012,0.002],[0.012,0.003],[0.012,0.004],[0.012,0.005],[0.012,0.006],[0.012,0.007],[0.012,0.008],[0.012,0.009],[0.012,0.01],[0.012,0.011],[0.012,0.012],[0.012,0.013],[0.012,0.014],[0.012,0.015],[0.012,0.016],[0.012,0.017],[0.012,0.018],[0.012,0.019],[0.012,0.02],[0.012,0.021],[0.012,0.022],[0.012,0.023],[0.012,0.024],[0.012,0.025],[0.012,0.026],[0.012,0.027],[0.012,0.028],[0.012,0.029],[0.013,0.0],[0.013,0.001],[0.013,0.002],[0.013,0.003],[0.013,0.004],[0.013,0.005],[0.013,0.006],[0.013,0.007],[0.013,0.008],[0.013,0.009],[0.013,0.01],[0.013,0.011],[0.013,0.012],[0.013,0.013],[0.013,0.014],[0.013,0.015],[0.013,0.016],[0.013,0.017],[0.013,0.018],[0.013,0.019],[0.013,0.02],[0.013,0.021],[0.013,0.022],[0.013,0.023],[0.013,0.024],[0.013,0.025],[0.013,0.026],[0.013,0.027],[0.013,0.028],[0.013,0.029],[0.014,0.0],[0.014,0.001],[0.014,0.002],[0.014,0.003],[0.014,0.004],[0.014,0.005],[0.014,0.006],[0.014,0.007],[0.014,0.008],[0.014,0.009],[0.014,0.01],[0.014,0.011],[0.014,0.012],[0.014,0.013],[0.014,0.014],[0.014,0.015],[0.014,0.016],[0.014,0.017],[0.014,0.018],[0.014,0.019],[0.014,0.02],[0.014,0.021],[0.014,0.022],[0.014,0.023],[0.014,0.024],[0.014,0.025],[0.014,0.026],[0.014,0.027],[0.014,0.028],[0.014,0.029],[0.015,0.0],[0.015,0.001],[0.015,0.002],[0.015,0.003],[0.015,0.004],[0.015,0.005],[0.015,0.006],[0.015,0.007],[0.015,0.008],[0.015,0.009],[0.015,0.01],[0.015,0.011],[0.015,0.012],[0.015,0.013],[0.015,0.014],[0.015,0.015],[0.015,0.016],[0.015,0.017],[0.015,0.018],[0.015,0.019],[0.015,0.02],[0.015,0.021],[0.015,0.022],[0.015,0.023],[0.015,0.024],[0.015,0.025],[0.015,0.026],[0.015,0.027],[0.015,0.028],[0.015,0.029],[0.016,0.0],[0.016,0.001],[0.016,0.002],[0.016,0.003],[0.016,0.004],[0.016,0.005],[0.016,0.006],[0.016,0.007],[0.016,0.008],[0.016,0.009],[0.016,0.01],[0.016,0.011],[0.016,0.012],[0.016,0.013],[0.016,0.014],[0.016,0.015],[0.016,0.016],[0.016,0.017],[0.016,0.018],[0.016,0.019],[0.016,0.02],[0.016,0.021],[0.016,0.022],[0.016,0.023],[0.016,0.024],[0.016,0.025],[0.016,0.026],[0.016,0.027],[0.016,0.028],[0.016,0.029],[0.017,0.0],[0.017,0.001],[0.017,0.002],[0.017,0.003],[0.017,0.004],[0.017,0.005],[0.017,0.006],[0.017,0.007],[0.017,0.008],[0.017,0.009],[0.017,0.01],[0.017,0.011],[0.017,0.012],[0.017,0.013],[0.017,0.014],[0.017,0.015],[0.017,0.016],[0.017,0.017],[0.017,0.018],[0.017,0.019],[0.017,0.02],[0.017,0.021],[0.017,0.022],[0.017,0.023],[0.017,0.024],[0.017,0.025],[0.017,0.026],[0.017,0.027],[0.017,0.028],[0.017,0.029],[0.018,0.0],[0.018,0.001],[0.018,0.002],[0.018,0.003],[0.018,0.004],[0.018,0.005],[0.018,0.006],[0.018,0.007],[0.018,0.008],[0.018,0.009],[0.018,0.01],[0.018,0.011],[0.018,0.012],[0.018,0.013],[0.018,0.014],[0.018,0.015],[0.018,0.016],[0.018,0.017],[0.018,0.018],[0.018,0.019],[0.018,0.02],[0.018,0.021],[0.018,0.022],[0.018,0.023],[0.018,0.024],[0.018,0.025],[0.018,0.026],[0.018,0.027],[0.018,0.028],[0.018,0.029],[0.019,0.0],[0.019,0.001],[0.019,0.002],[0.019,0.003],[0.019,0.004],[0.019,0.005],[0.019,0.006],[0.019,0.007],[0.019,0.008],[0.019,0.009],[0.019,0.01],[0.019,0.011],[0.019,0.012],[0.019,0.013],[0.019,0.014],[0.019,0.015],[0.019,0.016],[0.019,0.017],[0.019,0.018],[0.019,0.019],[0.019,0.02],[0.019,0.021],[0.019,0.022],[0.019,0.023],[0.019,0.024],[0.019,0.025],[0.019,0.026],[0.019,0.027],[0.019,0.028],[0.019,0.029],[0.02,0.0],[0.02,0.001],[0.02,0.002],[0.02,0.003],[0.02,0.004],[0.02,0.005],[0.02,0.006],[0.02,0.007],[0.02,0.008],[0.02,0.009],[0.02,0.01],[0.02,0.011],[0.02,0.012],[0.02,0.013],[0.02,0.014],[0.02,0.015],[0.02,0.016],[0.02,0.017],[0.02,0.018],[0.02,0.019],[0.02,0.02],[0.02,0.021],[0.02,0.022],[0.02,0.023],[0.02,0.024],[0.02,0.025],[0.02,0.026],[0.02,0.027],[0.02,0.028],[0.02,0.029],[0.021,0.0],[0.021,0.001],[0.021,0.002],[0.021,0.003],[0.021,0.004],[0.021,0.005],[0.021,0.006],[0.021,0.007],[0.021,0.008],[0.021,0.009],[0.021,0.01],[0.021,0.011],[0.021,0.012],[0.021,0.013],[0.021,0.014],[0.021,0.015],[0.021,0.016],[0.021,0.017],[0.021,0.018],[0.021,0.019],[0.021,0.02],[0.021,0.021],[0.021,0.022],[0.021,0.023],[0.021,0.024],[0.021,0.025],[0.021,0.026],[0.021,0.027],[0.021,0.028],[0.021,0.029],[0.022,0.0],[0.022,0.001],[0.022,0.002],[0.022,0.003],[0.022,0.004],[0.022,0.005],[0.022,0.006],[0.022,0.007],[0.022,0.008],[0.022,0.009],[0.022,0.01],[0.022,0.011],[0.022,0.012],[0.022,0.013],[0.022,0.014],[0.022,0.015],[0.022,0.016],[0.022,0.017],[0.022,0.018],[0.022,0.019],[0.022,0.02],[0.022,0.021],[0.022,0.022],[0.022,0.023],[0.022,0.024],[0.022,0.025],[0.022,0.026],[0.022,0.027],[0.022,0.028],[0.022,0.029],[0.023,0.0],[0.023,0.001],[0.023,0.002],[0.023,0.003],[0.023,0.004],[0.023,0.005],[0.023,0.006],[0.023,0.007],[0.023,0.008],[0.023,0.009],[0.023,0.01],[0.023,0.011],[0.023,0.012],[0.023,0.013],[0.023,0.014],[0.023,0.015],[0.023,0.016],[0.023,0.017],[0.023,0.018],[0.023,0.019],[0.023,0.02],[0.023,0.021],[0.023,0.022],[0.023,0.023],[0.023,0.024],[0.023,0.025],[0.023,0.026],[0.023,0.027],[0.023,0.028],[0.023,0.029],[0.024,0.0],[0.024,0.001],[0.024,0.002],[0.024,0.003],[0.024,0.004],[0.024,0.005],[0.024,0.006],[0.024,0.007],[0.024,0.008],[0.024,0.009],[0.024,0.01],[0.024,0.011],[0.024,0.012],[0.024,0.013],[0.024,0.014],[0.024,0.015],[0.024,0.016],[0.024,0.017],[0.024,0.018],[0.024,0.019],[0.024,0.02],[0.024,0.021],[0.024,0.022],[0.024,0.023],[0.024,0.024],[0.024,0.025],[0.024,0.026],[0.024,0.027],[0.024,0.028],[0.024,0.029],[0.025,0.0],[0.025,0.001],[0.025,0.002],[0.025,0.003],[0.025,0.004],[0.025,0.005],[0.025,0.006],[0.025,0.007],[0.025,0.008],[0.025,0.009],[0.025,0.01],[0.025,0.011],[0.025,0.012],[0.025,0.013],[0.025,0.014],[0.025,0.015],[0.025,0.016],[0.025,0.017],[0.025,0.018],[0.025,0.019],[0.025,0.02],[0.025,0.021],[0.025,0.022],[0.025,0.023],[0.025,0.024],[0.025,0.025],[0.025,0.026],[0.025,0.027],[0.025,0.028],[0.025,0.029],[0.026,0.0],[0.026,0.001],[0.026,0.002],[0.026,0.003],[0.026,0.004],[0.026,0.005],[0.026,0.006],[0.026,0.007],[0.026,0.008],[0.026,0.009],[0.026,0.01],[0.026,0.011],[0.026,0.012],[0.026,0.013],[0.026,0.014],[0.026,0.015],[0.026,0.016],[0.026,0.017],[0.026,0.018],[0.026,0.019],[0.026,0.02],[0.026,0.021],[0.026,0.022],[0.026,0.023],[0.026,0.024],[0.026,0.025],[0.026,0.026],[0.026,0.027],[0.026,0.028],[0.026,0.029],[0.027,0.0],[0.027,0.001],[0.027,0.002],[0.027,0.003],[0.027,0.004],[0.027,0.005],[0.027,0.006],[0.027,0.007],[0.027,0.008],[0.027,0.009],[0.027,0.01],[0.027,0.011],[0.027,0.012],[0.027,0.013],[0.027,0.014],[0.027,0.015],[0.027,0.016],[0.027,0.017],[0.027,0.018],[0.027,0.019],[0.027,0.02],[0.027,0.021],[0.027,0.022],[0.027,0.023],[0.027,0.024],[0.027,0.025],[0.027,0.026],[0.027,0.027],[0.027,0.028],[0.027,0.029],[0.028,0.0],[0.028,0.001],[0.028,0.002],[0.028,0.003],[0.028,0.004],[0.028,0.005],[0.028,0.006],[0.028,0.007],[0.028,0.008],[0.028,0.009],[0.028,0.01],[0.028,0.011],[0.028,0.012],[0.028,0.013],[0.028,0.014],[0.028,0.015],[0.028,0.016],[0.028,0.017],[0.028,0.018],[0.028,0.019],[0.028,0.02],[0.028,0.021],[0.028,0.022],[0.028,0.023],[0.028,0.024],[0.028,0.025],[0.028,0.026],[0.028,0.027],[0.028,0.028],[0.028,0.029],[0.029,0.0],[0.029,0.001],[0.029,0.002],[0.029,0.003],[0.029,0.004],[0.029,0.005],[0.029,0.006],[0.029,0.007],[0.029,0.008],[0.029,0.009],[0.029,0.01],[0.029,0.011],[0.029,0.012],[0.029,0.013],[0.029,0.014],[0.029,0.015],[0.029,0.016],[0.029,0.017],[0.029,0.018],[0.029,0.019],[0.029,0.02],[0.029,0.021],[0.029,0.022],[0.029,0.023],[0.029,0.024],[0.029,0.025],[0.029,0.026],[0.029,0.027],[0.029,0.028],[0.029,0.029]]},\"selected\":{\"id\":\"1011\"},\"selection_policy\":{\"id\":\"1010\"}},\"id\":\"1004\",\"type\":\"ColumnDataSource\"},{\"attributes\":{\"children\":[{\"id\":\"1007\"},{\"id\":\"1008\"},{\"id\":\"1009\"}],\"margin\":[0,0,0,0],\"name\":\"Row00107\",\"sizing_mode\":\"fixed\",\"width\":400},\"id\":\"1006\",\"type\":\"Row\"},{\"attributes\":{},\"id\":\"1010\",\"type\":\"UnionRenderers\"}],\"root_ids\":[\"1002\",\"1016\",\"1023\"]},\"title\":\"Bokeh Application\",\"version\":\"2.4.3\"}};\n",
       "    var render_items = [{\"docid\":\"412b7908-0b8e-4b8c-852e-e5142440743f\",\"root_ids\":[\"1002\"],\"roots\":{\"1002\":\"9f1d39d4-ee76-4cb2-8570-8f34974ebe74\"}}];\n",
       "    root.Bokeh.embed.embed_items_notebook(docs_json, render_items);\n",
       "    for (const render_item of render_items) {\n",
       "      for (const root_id of render_item.root_ids) {\n",
       "\tconst id_el = document.getElementById(root_id)\n",
       "\tif (id_el.children.length && (id_el.children[0].className === 'bk-root')) {\n",
       "\t  const root_el = id_el.children[0]\n",
       "\t  root_el.id = root_el.id + '-rendered'\n",
       "\t}\n",
       "      }\n",
       "    }\n",
       "  }\n",
       "  if (root.Bokeh !== undefined && root.Bokeh.Panel !== undefined && ( root['deck'] !== undefined)) {\n",
       "    embed_document(root);\n",
       "  } else {\n",
       "    var attempts = 0;\n",
       "    var timer = setInterval(function(root) {\n",
       "      if (root.Bokeh !== undefined && root.Bokeh.Panel !== undefined && (root['deck'] !== undefined)) {\n",
       "        clearInterval(timer);\n",
       "        embed_document(root);\n",
       "      } else if (document.readyState == \"complete\") {\n",
       "        attempts++;\n",
       "        if (attempts > 200) {\n",
       "          clearInterval(timer);\n",
       "          console.log(\"Bokeh: ERROR: Unable to run BokehJS code because BokehJS library is missing\");\n",
       "        }\n",
       "      }\n",
       "    }, 25, root)\n",
       "  }\n",
       "})(window);</script>"
      ],
      "text/plain": [
       "Column(sizing_mode='stretch_width')\n",
       "    [0] Markdown(str, sizing_mode='stretch_width')\n",
       "    [1] DeckGL(dict, height=400, sizing_mode='stretch_width')\n",
       "    [2] Row(sizing_mode='fixed', width=400)\n",
       "        [0] IntInput(align='end', name='Period (ms)', start=50, step=50, value=500, width=100)\n",
       "        [1] Toggle(align='end', button_type='primary', name='Run', width=50)\n",
       "        [2] Button(align='end', button_type='warning', name='Reset', width=60)"
      ]
     },
     "execution_count": 6,
     "metadata": {
      "application/vnd.holoviews_exec.v0+json": {
       "id": "1002"
      }
     },
     "output_type": "execute_result"
    }
   ],
   "source": [
    "board = new_board(30, 30)\n",
    "\n",
    "gol = pn.pane.DeckGL(board_json, height=400)\n",
    "\n",
    "run_gol()\n",
    "\n",
    "periodic_toggle = pn.widgets.Toggle(\n",
    "    name='Run', value=False, button_type='primary', align='end', width=50\n",
    ")\n",
    "periodic_toggle.param.watch(toggle_periodic_callback, 'value')\n",
    "\n",
    "period = pn.widgets.Spinner(name=\"Period (ms)\", value=500, step=50, start=50,\n",
    "                            align='end', width=100)\n",
    "period.param.watch(update_period, 'value')\n",
    "\n",
    "reset = pn.widgets.Button(name='Reset', button_type='warning', width=60, align='end')\n",
    "reset.on_click(reset_board)\n",
    "\n",
    "periodic_cb = pn.state.add_periodic_callback(run_gol, start=False, period=period.value)\n",
    "\n",
    "settings = pn.Row(period, periodic_toggle, reset, width=400, sizing_mode=\"fixed\")\n",
    "\n",
    "pn.Column(\n",
    "    '## Game of Life (using Deck.GL)',\n",
    "    gol,\n",
    "    settings,\n",
    ")"
   ]
  },
  {
   "cell_type": "markdown",
   "metadata": {},
   "source": [
    "## App\n",
    "\n",
    "Lets wrap it into nice template that can be served via `panel serve deckgl_game_of_life.ipynb`"
   ]
  },
  {
   "cell_type": "code",
   "execution_count": 7,
   "metadata": {},
   "outputs": [],
   "source": [
    "description = \"\"\"\n",
    "**Conway's Game of Life** is a classic demonstration of *emergence*, where higher level patterns form from a few simple rules. Fantastic patterns emerge when the game is let to run long enough.\n",
    "\n",
    "The **rules** here, to borrow from [Wikipedia](https://en.wikipedia.org/wiki/Conway%27s_Game_of_Life), are as follows:\n",
    "\n",
    "- Any live cell with fewer than two live neighbours dies, as if by underpopulation.\n",
    "- Any live cell with two or three live neighbours lives on to the next generation.\n",
    "- Any live cell with more than three live neighbours dies, as if by overpopulation.\n",
    "- Any dead cell with exactly three live neighbours becomes a live cell, as if by reproduction.\n",
    "\n",
    "This demo was **adapted from [PyDeck's Conway Game of Life example](https://github.com/uber/deck.gl/blob/66c75051d5b385db31f0a4322dff054779824783/bindings/pydeck/examples/06%20-%20Conway's%20Game%20of%20Life.ipynb)**, full copyright lies with the original authors.\n",
    "\n",
    "This modified example demonstrates **how to display and update a `DeckGL` pane with a periodic callback** by modifying the JSON representation and triggering an update.\"\"\""
   ]
  },
  {
   "cell_type": "code",
   "execution_count": 8,
   "metadata": {},
   "outputs": [],
   "source": [
    "pn.template.FastListTemplate(\n",
    "    site=\"Panel\", \n",
    "    title=\"Deck.gl - Game of Life\", \n",
    "    main=[ pn.Column(description, settings), gol, ], main_max_width=\"768px\",\n",
    ").servable();"
   ]
  }
 ],
 "metadata": {
  "kernelspec": {
   "display_name": "Python 3",
   "language": "python",
   "name": "python3"
  },
  "language_info": {
   "codemirror_mode": {
    "name": "ipython",
    "version": 3
   },
   "file_extension": ".py",
   "mimetype": "text/x-python",
   "name": "python",
   "nbconvert_exporter": "python",
   "pygments_lexer": "ipython3",
   "version": "3.10.6 (main, Nov 14 2022, 16:10:14) [GCC 11.3.0]"
  },
  "vscode": {
   "interpreter": {
    "hash": "767d51c1340bd893661ea55ea3124f6de3c7a262a8b4abca0554b478b1e2ff90"
   }
  }
 },
 "nbformat": 4,
 "nbformat_minor": 4
}
